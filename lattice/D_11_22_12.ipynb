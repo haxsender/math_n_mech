{
 "cells": [
  {
   "cell_type": "code",
   "execution_count": 64,
   "source": [
    "from sympy import symbols, Symbol, simplify, linsolve, sin, cos, tan, pi\r\n",
    "from sympy.matrices import Matrix"
   ],
   "outputs": [],
   "metadata": {}
  },
  {
   "cell_type": "code",
   "execution_count": 65,
   "source": [
    "# Variables.\r\n",
    "ds, dr, h = symbols(\"ds, dr, h\")\r\n",
    "E, G, GIP, GIPs, GIPr = symbols('E, G, GIP, GIPs, GIPr')\r\n",
    "EF, EFs, EFr = symbols('EF, EFs, EFr')\r\n",
    "EI, EI3, EI2, EI2s, EI3s, EI2r, EI3r = symbols('EI, EI3, EI2, EI2s, EI3s, EI2r, EI3r')\r\n",
    "fi = Symbol('fi')\r\n",
    "L = Symbol('L')\r\n",
    "Mx, My = symbols('Mx, My')\r\n",
    "\r\n",
    "SIN = Symbol(\"SIN\")\r\n",
    "COS = Symbol(\"COS\")\r\n",
    "TAN = Symbol(\"TAN\")\r\n",
    "\r\n",
    "l, l3, l2, l2s, l3s, l2r, l3r = symbols('l, l3, l2, l2s, l3s, l2r, l3r')\r\n",
    "k, k3, k2, k2s, k3s, k2r, k3r = symbols(\"k, k3, k2, k2s, k3s, k2r, k3r\")\r\n",
    "\r\n",
    "# Element stiffness matrix.\r\n",
    "K = Matrix([\r\n",
    "[ EF/L,                     0,                 0,      0,                    0,                    0, -EF/L,                 0,                 0,      0,                    0,                    0],  # tx1\r\n",
    "[    0,      k2*(12*EI2)/L**3,                 0,      0,                    0,      k2*(6*EI2)/L**2,     0, -k2*(12*EI2)/L**3,                 0,      0,                    0,      k2*(6*EI2)/L**2],  # ty1\r\n",
    "[    0,                     0,  k3*(12*EI3)/L**3,      0,     -k3*(6*EI3)/L**2,                    0,     0,                 0, -k3*(12*EI3)/L**3,      0,     -k3*(6*EI3)/L**2,                    0],  # tz1\r\n",
    "[    0,                     0,                 0,  GIP/L,                    0,                    0,     0,                 0,                 0, -GIP/L,                    0,                    0],  # rx1\r\n",
    "[    0,                     0,  -k3*(6*EI3)/L**2,      0, k3*((4+12*l3)*EI3)/L,                    0,     0,                 0,   k3*(6*EI3)/L**2,      0, k3*((2-12*l3)*EI3)/L,                    0],  # ry1\r\n",
    "[    0,       k2*(6*EI2)/L**2,                 0,      0,                    0, k2*((4+12*l2)*EI2)/L,     0,  -k2*(6*EI2)/L**2,                 0,      0,                    0, k2*((2-12*l2)*EI2)/L],  # rz1\r\n",
    "[-EF/L,                     0,                 0,      0,                    0,                    0,  EF/L,                 0,                 0,      0,                    0,                    0],  # tx2\r\n",
    "[    0,     -k2*(12*EI2)/L**3,                 0,      0,                    0,     -k2*(6*EI2)/L**2,     0,  k2*(12*EI2)/L**3,                 0,      0,                    0,     -k2*(6*EI2)/L**2],  # ty2\r\n",
    "[    0,                     0, -k3*(12*EI3)/L**3,      0,      k3*(6*EI3)/L**2,                    0,     0,                 0,  k3*(12*EI3)/L**3,      0,      k3*(6*EI3)/L**2,                    0],  # tz2\r\n",
    "[    0,                     0,                 0, -GIP/L,                    0,                    0,     0,                 0,                 0,  GIP/L,                    0,                    0],  # rx2\r\n",
    "[    0,                     0,  -k3*(6*EI3)/L**2,      0, k3*((2-12*l3)*EI3)/L,                    0,     0,                 0,   k3*(6*EI3)/L**2,      0, k3*((4+12*l3)*EI3)/L,                    0],  # ry2\r\n",
    "[    0,       k2*(6*EI2)/L**2,                 0,      0,                    0, k2*((2-12*l2)*EI2)/L,     0,  -k2*(6*EI2)/L**2,                 0,      0,                    0, k2*((4+12*l2)*EI2)/L] ]) # rz3\r\n",
    "\r\n",
    "W = Symbol(\"W\") # 2*pi*R/ns/2\r\n",
    "# For spiral ribs.\r\n",
    "Ks  = K.subs( L, W/COS/2 ).subs(GIP, GIPs).subs(EF, EFs).subs(EI2,EI2s).subs(EI3,EI3s).subs(l3,l3s).subs(l2,l2s).subs(k2,k2s).subs(k3,k3s)\r\n",
    "# For circular ribs.\r\n",
    "Kk = K.subs( L, W ).subs(GIP, GIPr).subs(EF, EFr).subs(EI2, EI2r).subs(EI3, EI3r).subs(l3,l3r).subs(l2,l2r).subs(k3,k3r).subs(k2,k2r)\r\n",
    "\r\n",
    "Tr = Matrix( [[  COS,  SIN,    0,    0,    0,    0,    0,    0,    0,    0,    0,    0],\r\n",
    "              [ -SIN,  COS,    0,    0,    0,    0,    0,    0,    0,    0,    0,    0],\r\n",
    "              [    0,    0,    1,    0,    0,    0,    0,    0,    0,    0,    0,    0],\r\n",
    "              [    0,    0,    0,  COS,  SIN,    0,    0,    0,    0,    0,    0,    0],\r\n",
    "              [    0,    0,    0, -SIN,  COS,    0,    0,    0,    0,    0,    0,    0],\r\n",
    "              [    0,    0,    0,    0,    0,    1,    0,    0,    0,    0,    0,    0],\r\n",
    "              [    0,    0,    0,    0,    0,    0,  COS,  SIN,    0,    0,    0,    0],\r\n",
    "              [    0,    0,    0,    0,    0,    0, -SIN,  COS,    0,    0,    0,    0],\r\n",
    "              [    0,    0,    0,    0,    0,    0,    0,    0,    1,    0,    0,    0],\r\n",
    "              [    0,    0,    0,    0,    0,    0,    0,    0,    0,  COS,  SIN,    0],\r\n",
    "              [    0,    0,    0,    0,    0,    0,    0,    0,    0, -SIN,  COS,    0],\r\n",
    "              [    0,    0,    0,    0,    0,    0,    0,    0,    0,    0,    0,    1]] )\r\n",
    "\r\n",
    "# Rotated elements.\r\n",
    "Ks1 = Tr.T * Ks * Tr\r\n",
    "Ks2 = Tr * Ks * Tr.T\r\n",
    "\r\n",
    "Z  = Matrix().zeros(12)\r\n",
    "\r\n",
    "Kl =            Ks1.row_join(  Z  ).row_join(  Z  )\r\n",
    "Kl = Kl.col_join( Z.row_join( Ks2 ).row_join(  Z  ) )\r\n",
    "Kl = Kl.col_join( Z.row_join(  Z  ).row_join( Kk  ) )\r\n",
    "\r\n",
    "# Links matrix.\r\n",
    "Z = Matrix().zeros(6)\r\n",
    "O = Matrix().eye(6)\r\n",
    "\r\n",
    "A =             O.row_join( Z ).row_join( Z )\r\n",
    "A = A.col_join( Z.row_join( O ).row_join( Z ))\r\n",
    "\r\n",
    "A = A.col_join( Z.row_join( O ).row_join( Z ))\r\n",
    "A = A.col_join( Z.row_join( Z ).row_join( O ))\r\n",
    "\r\n",
    "A = A.col_join( O.row_join( Z ).row_join( Z ))\r\n",
    "A = A.col_join( Z.row_join( Z ).row_join( O ))\r\n",
    "\r\n",
    "# Global stiffness matrix.\r\n",
    "Kglobal = simplify(A.transpose() * Kl * A)\r\n",
    "\r\n",
    "Rx1, Ry1, Rz1, Mx1, My1, Mz1, Rx2, Ry2, Rz2, Mx2, My2, Mz2, Rx3, Ry3, Rz3, Mx3, My3, Mz3 = symbols('Rx1, Ry1, Rz1, Mx1, My1, Mz1, Rx2, Ry2, Rz2, Mx2, My2, Mz2, Rx3, Ry3, Rz3, Mx3, My3, Mz3')\r\n",
    "tx1, ty1, tz1, rx1, ry1, rz1, tx2, ty2, tz2, rx2, ry2, rz2, tx3, ty3, tz3, rx3, ry3, rz3 = symbols('tx1, ty1, tz1, rx1, ry1, rz1, tx2, ty2, tz2, rx2, ry2, rz2, tx3, ty3, tz3, rx3, ry3, rz3')\r\n",
    "\r\n",
    "Kglobal * Matrix([tx1, ty1, tz1, rx1, ry1, rz1, tx2, ty2, tz2, rx2, ry2, rz2, tx3, ty3, tz3, rx3, ry3, rz3]) - Matrix([Rx1, Ry1, Rz1, Mx1, My1, Mz1, Rx2, Ry2, Rz2, Mx2, My2, Mz2, Rx3, Ry3, Rz3, Mx3, My3, Mz3])"
   ],
   "outputs": [
    {
     "output_type": "execute_result",
     "data": {
      "text/plain": [
       "Matrix([\n",
       "[                                                                            -2*COS**3*tx2*(EFs*W**2 + 48*EI2s*SIN**2*k2s)/W**3 - 24*COS**2*EI2s*SIN*k2s*rz1/W**2 - 24*COS**2*EI2s*SIN*k2s*rz2/W**2 + 2*COS**2*SIN*ty1*(-48*COS**2*EI2s*k2s + EFs*W**2)/W**3 + 2*COS**2*SIN*ty2*(48*COS**2*EI2s*k2s - EFs*W**2)/W**3 - EFr*tx3/W - Rx1 + tx1*(96*COS**3*EI2s*SIN**2*k2s + W**2*(2*COS**3*EFs + EFr))/W**3],\n",
       "[                                  24*COS**3*EI2s*k2s*rz2/W**2 + 2*COS**2*SIN*tx1*(-48*COS**2*EI2s*k2s + EFs*W**2)/W**3 + 2*COS**2*SIN*tx2*(48*COS**2*EI2s*k2s - EFs*W**2)/W**3 + 6*EI2r*k2r*rz3/W**2 - 12*EI2r*k2r*ty3/W**3 - Ry1 + ty2*(-96*COS**5*EI2s*k2s/W**3 - 2*COS*EFs*SIN**2/W) + 6*rz1*(4*COS**3*EI2s*k2s + EI2r*k2r)/W**2 + 2*ty1*(48*COS**5*EI2s*k2s + COS*EFs*SIN**2*W**2 + 6*EI2r*k2r)/W**3],\n",
       "[                                                                                                                             -24*COS**3*EI3s*k3s*ry2/W**2 - 96*COS**3*EI3s*k3s*tz2/W**3 + 24*COS**2*EI3s*SIN*k3s*rx1/W**2 + 24*COS**2*EI3s*SIN*k3s*rx2/W**2 - 6*EI3r*k3r*ry3/W**2 - 12*EI3r*k3r*tz3/W**3 - Rz1 - ry1*(24*COS**3*EI3s*k3s + 6*EI3r*k3r)/W**2 + 12*tz1*(8*COS**3*EI3s*k3s + EI3r*k3r)/W**3],\n",
       "[                                                                          24*COS**2*EI3s*SIN*k3s*tz1/W**2 - 24*COS**2*EI3s*SIN*k3s*tz2/W**2 + 2*COS**2*SIN*ry1*(-4*EI3s*k3s*(3*l3s + 1) + GIPs)/W + 2*COS**2*SIN*ry2*(2*EI3s*k3s*(6*l3s - 1) - GIPs)/W - 2*COS*rx2*(COS**2*GIPs + 2*EI3s*SIN**2*k3s*(6*l3s - 1))/W - GIPr*rx3/W - Mx1 + rx1*(2*COS**3*GIPs + 8*COS*EI3s*SIN**2*k3s*(3*l3s + 1) + GIPr)/W],\n",
       "[         24*COS**3*EI3s*k3s*tz2/W**2 + 2*COS**2*SIN*rx1*(-4*EI3s*k3s*(3*l3s + 1) + GIPs)/W + 2*COS**2*SIN*rx2*(2*EI3s*k3s*(6*l3s - 1) - GIPs)/W - 2*COS*ry2*(2*COS**2*EI3s*k3s*(6*l3s - 1) + GIPs*SIN**2)/W + 2*EI3r*k3r*ry3*(1 - 6*l3r)/W + 6*EI3r*k3r*tz3/W**2 - My1 + 2*ry1*(4*COS**3*EI3s*k3s*(3*l3s + 1) + COS*GIPs*SIN**2 + 2*EI3r*k3r*(3*l3r + 1))/W - tz1*(24*COS**3*EI3s*k3s + 6*EI3r*k3r)/W**2],\n",
       "[                                                                                                -24*COS**3*EI2s*k2s*ty2/W**2 - 24*COS**2*EI2s*SIN*k2s*tx1/W**2 + 24*COS**2*EI2s*SIN*k2s*tx2/W**2 + 4*COS*EI2s*k2s*rz2*(1 - 6*l2s)/W + 2*EI2r*k2r*rz3*(1 - 6*l2r)/W - 6*EI2r*k2r*ty3/W**2 - Mz1 + 4*rz1*(2*COS*EI2s*k2s*(3*l2s + 1) + EI2r*k2r*(3*l2r + 1))/W + 6*ty1*(4*COS**3*EI2s*k2s + EI2r*k2r)/W**2],\n",
       "[                 -2*COS**3*tx1*(EFs*W**2 + 48*EI2s*SIN**2*k2s)/W**3 + 4*COS**3*tx2*(EFs*W**2 + 48*EI2s*SIN**2*k2s)/W**3 - 2*COS**3*tx3*(EFs*W**2 + 48*EI2s*SIN**2*k2s)/W**3 + 24*COS**2*EI2s*SIN*k2s*rz1/W**2 + 48*COS**2*EI2s*SIN*k2s*rz2/W**2 + 24*COS**2*EI2s*SIN*k2s*rz3/W**2 + 2*COS**2*SIN*ty1*(48*COS**2*EI2s*k2s - EFs*W**2)/W**3 + 2*COS**2*SIN*ty3*(-48*COS**2*EI2s*k2s + EFs*W**2)/W**3 - Rx2],\n",
       "[                                                     -24*COS**3*EI2s*k2s*rz1/W**2 + 24*COS**3*EI2s*k2s*rz3/W**2 + 2*COS**2*SIN*tx1*(48*COS**2*EI2s*k2s - EFs*W**2)/W**3 + 2*COS**2*SIN*tx3*(-48*COS**2*EI2s*k2s + EFs*W**2)/W**3 - Ry2 + ty1*(-96*COS**5*EI2s*k2s/W**3 - 2*COS*EFs*SIN**2/W) + ty2*(192*COS**5*EI2s*k2s/W**3 + 4*COS*EFs*SIN**2/W) + ty3*(-96*COS**5*EI2s*k2s/W**3 - 2*COS*EFs*SIN**2/W)],\n",
       "[                                                                                                                                        24*COS**3*EI3s*k3s*ry1/W**2 - 24*COS**3*EI3s*k3s*ry3/W**2 - 96*COS**3*EI3s*k3s*tz1/W**3 + 192*COS**3*EI3s*k3s*tz2/W**3 - 96*COS**3*EI3s*k3s*tz3/W**3 - 24*COS**2*EI3s*SIN*k3s*rx1/W**2 - 48*COS**2*EI3s*SIN*k3s*rx2/W**2 - 24*COS**2*EI3s*SIN*k3s*rx3/W**2 - Rz2],\n",
       "[24*COS**2*EI3s*SIN*k3s*tz1/W**2 - 48*COS**2*EI3s*SIN*k3s*tz2/W**2 + 24*COS**2*EI3s*SIN*k3s*tz3/W**2 + 2*COS**2*SIN*ry1*(2*EI3s*k3s*(6*l3s - 1) - GIPs)/W + 2*COS**2*SIN*ry3*(-2*EI3s*k3s*(6*l3s - 1) + GIPs)/W - 2*COS*rx1*(COS**2*GIPs + 2*EI3s*SIN**2*k3s*(6*l3s - 1))/W + 4*COS*rx2*(COS**2*GIPs + 4*EI3s*SIN**2*k3s*(3*l3s + 1))/W - 2*COS*rx3*(COS**2*GIPs + 2*EI3s*SIN**2*k3s*(6*l3s - 1))/W - Mx2],\n",
       "[                                         -24*COS**3*EI3s*k3s*tz1/W**2 + 24*COS**3*EI3s*k3s*tz3/W**2 + 2*COS**2*SIN*rx1*(2*EI3s*k3s*(6*l3s - 1) - GIPs)/W + 2*COS**2*SIN*rx3*(-2*EI3s*k3s*(6*l3s - 1) + GIPs)/W - 2*COS*ry1*(2*COS**2*EI3s*k3s*(6*l3s - 1) + GIPs*SIN**2)/W + 4*COS*ry2*(4*COS**2*EI3s*k3s*(3*l3s + 1) + GIPs*SIN**2)/W - 2*COS*ry3*(2*COS**2*EI3s*k3s*(6*l3s - 1) + GIPs*SIN**2)/W - My2],\n",
       "[                                                                                                                         24*COS**3*EI2s*k2s*ty1/W**2 - 24*COS**3*EI2s*k2s*ty3/W**2 - 24*COS**2*EI2s*SIN*k2s*tx1/W**2 + 48*COS**2*EI2s*SIN*k2s*tx2/W**2 - 24*COS**2*EI2s*SIN*k2s*tx3/W**2 + 4*COS*EI2s*k2s*rz1*(1 - 6*l2s)/W + 16*COS*EI2s*k2s*rz2*(3*l2s + 1)/W + 4*COS*EI2s*k2s*rz3*(1 - 6*l2s)/W - Mz2],\n",
       "[                                                                            -2*COS**3*tx2*(EFs*W**2 + 48*EI2s*SIN**2*k2s)/W**3 - 24*COS**2*EI2s*SIN*k2s*rz2/W**2 - 24*COS**2*EI2s*SIN*k2s*rz3/W**2 + 2*COS**2*SIN*ty2*(-48*COS**2*EI2s*k2s + EFs*W**2)/W**3 + 2*COS**2*SIN*ty3*(48*COS**2*EI2s*k2s - EFs*W**2)/W**3 - EFr*tx1/W - Rx3 + tx3*(96*COS**3*EI2s*SIN**2*k2s + W**2*(2*COS**3*EFs + EFr))/W**3],\n",
       "[                                -24*COS**3*EI2s*k2s*rz2/W**2 + 2*COS**2*SIN*tx2*(-48*COS**2*EI2s*k2s + EFs*W**2)/W**3 + 2*COS**2*SIN*tx3*(48*COS**2*EI2s*k2s - EFs*W**2)/W**3 - 6*EI2r*k2r*rz1/W**2 - 12*EI2r*k2r*ty1/W**3 - Ry3 + ty2*(-96*COS**5*EI2s*k2s/W**3 - 2*COS*EFs*SIN**2/W) - rz3*(24*COS**3*EI2s*k2s + 6*EI2r*k2r)/W**2 + 2*ty3*(48*COS**5*EI2s*k2s + COS*EFs*SIN**2*W**2 + 6*EI2r*k2r)/W**3],\n",
       "[                                                                                                                               24*COS**3*EI3s*k3s*ry2/W**2 - 96*COS**3*EI3s*k3s*tz2/W**3 + 24*COS**2*EI3s*SIN*k3s*rx2/W**2 + 24*COS**2*EI3s*SIN*k3s*rx3/W**2 + 6*EI3r*k3r*ry1/W**2 - 12*EI3r*k3r*tz1/W**3 - Rz3 + 6*ry3*(4*COS**3*EI3s*k3s + EI3r*k3r)/W**2 + 12*tz3*(8*COS**3*EI3s*k3s + EI3r*k3r)/W**3],\n",
       "[                                                                         -24*COS**2*EI3s*SIN*k3s*tz2/W**2 + 24*COS**2*EI3s*SIN*k3s*tz3/W**2 + 2*COS**2*SIN*ry2*(-2*EI3s*k3s*(6*l3s - 1) + GIPs)/W + 2*COS**2*SIN*ry3*(4*EI3s*k3s*(3*l3s + 1) - GIPs)/W - 2*COS*rx2*(COS**2*GIPs + 2*EI3s*SIN**2*k3s*(6*l3s - 1))/W - GIPr*rx1/W - Mx3 + rx3*(2*COS**3*GIPs + 8*COS*EI3s*SIN**2*k3s*(3*l3s + 1) + GIPr)/W],\n",
       "[         -24*COS**3*EI3s*k3s*tz2/W**2 + 2*COS**2*SIN*rx2*(-2*EI3s*k3s*(6*l3s - 1) + GIPs)/W + 2*COS**2*SIN*rx3*(4*EI3s*k3s*(3*l3s + 1) - GIPs)/W - 2*COS*ry2*(2*COS**2*EI3s*k3s*(6*l3s - 1) + GIPs*SIN**2)/W + 2*EI3r*k3r*ry1*(1 - 6*l3r)/W - 6*EI3r*k3r*tz1/W**2 - My3 + 2*ry3*(4*COS**3*EI3s*k3s*(3*l3s + 1) + COS*GIPs*SIN**2 + 2*EI3r*k3r*(3*l3r + 1))/W + 6*tz3*(4*COS**3*EI3s*k3s + EI3r*k3r)/W**2],\n",
       "[                                                                                                24*COS**3*EI2s*k2s*ty2/W**2 + 24*COS**2*EI2s*SIN*k2s*tx2/W**2 - 24*COS**2*EI2s*SIN*k2s*tx3/W**2 + 4*COS*EI2s*k2s*rz2*(1 - 6*l2s)/W + 2*EI2r*k2r*rz1*(1 - 6*l2r)/W + 6*EI2r*k2r*ty1/W**2 - Mz3 + 4*rz3*(2*COS*EI2s*k2s*(3*l2s + 1) + EI2r*k2r*(3*l2r + 1))/W - ty3*(24*COS**3*EI2s*k2s + 6*EI2r*k2r)/W**2]])"
      ],
      "text/latex": [
       "$\\displaystyle \\left[\\begin{matrix}- \\frac{2 COS^{3} tx_{2} \\left(EFs W^{2} + 48 EI2s SIN^{2} k2s\\right)}{W^{3}} - \\frac{24 COS^{2} EI2s SIN k2s rz_{1}}{W^{2}} - \\frac{24 COS^{2} EI2s SIN k2s rz_{2}}{W^{2}} + \\frac{2 COS^{2} SIN ty_{1} \\left(- 48 COS^{2} EI2s k2s + EFs W^{2}\\right)}{W^{3}} + \\frac{2 COS^{2} SIN ty_{2} \\left(48 COS^{2} EI2s k2s - EFs W^{2}\\right)}{W^{3}} - \\frac{EFr tx_{3}}{W} - Rx_{1} + \\frac{tx_{1} \\left(96 COS^{3} EI2s SIN^{2} k2s + W^{2} \\left(2 COS^{3} EFs + EFr\\right)\\right)}{W^{3}}\\\\\\frac{24 COS^{3} EI2s k2s rz_{2}}{W^{2}} + \\frac{2 COS^{2} SIN tx_{1} \\left(- 48 COS^{2} EI2s k2s + EFs W^{2}\\right)}{W^{3}} + \\frac{2 COS^{2} SIN tx_{2} \\left(48 COS^{2} EI2s k2s - EFs W^{2}\\right)}{W^{3}} + \\frac{6 EI2r k2r rz_{3}}{W^{2}} - \\frac{12 EI2r k2r ty_{3}}{W^{3}} - Ry_{1} + ty_{2} \\left(- \\frac{96 COS^{5} EI2s k2s}{W^{3}} - \\frac{2 COS EFs SIN^{2}}{W}\\right) + \\frac{6 rz_{1} \\left(4 COS^{3} EI2s k2s + EI2r k2r\\right)}{W^{2}} + \\frac{2 ty_{1} \\left(48 COS^{5} EI2s k2s + COS EFs SIN^{2} W^{2} + 6 EI2r k2r\\right)}{W^{3}}\\\\- \\frac{24 COS^{3} EI3s k3s ry_{2}}{W^{2}} - \\frac{96 COS^{3} EI3s k3s tz_{2}}{W^{3}} + \\frac{24 COS^{2} EI3s SIN k3s rx_{1}}{W^{2}} + \\frac{24 COS^{2} EI3s SIN k3s rx_{2}}{W^{2}} - \\frac{6 EI3r k3r ry_{3}}{W^{2}} - \\frac{12 EI3r k3r tz_{3}}{W^{3}} - Rz_{1} - \\frac{ry_{1} \\left(24 COS^{3} EI3s k3s + 6 EI3r k3r\\right)}{W^{2}} + \\frac{12 tz_{1} \\left(8 COS^{3} EI3s k3s + EI3r k3r\\right)}{W^{3}}\\\\\\frac{24 COS^{2} EI3s SIN k3s tz_{1}}{W^{2}} - \\frac{24 COS^{2} EI3s SIN k3s tz_{2}}{W^{2}} + \\frac{2 COS^{2} SIN ry_{1} \\left(- 4 EI3s k3s \\left(3 l3s + 1\\right) + GIPs\\right)}{W} + \\frac{2 COS^{2} SIN ry_{2} \\left(2 EI3s k3s \\left(6 l3s - 1\\right) - GIPs\\right)}{W} - \\frac{2 COS rx_{2} \\left(COS^{2} GIPs + 2 EI3s SIN^{2} k3s \\left(6 l3s - 1\\right)\\right)}{W} - \\frac{GIPr rx_{3}}{W} - Mx_{1} + \\frac{rx_{1} \\left(2 COS^{3} GIPs + 8 COS EI3s SIN^{2} k3s \\left(3 l3s + 1\\right) + GIPr\\right)}{W}\\\\\\frac{24 COS^{3} EI3s k3s tz_{2}}{W^{2}} + \\frac{2 COS^{2} SIN rx_{1} \\left(- 4 EI3s k3s \\left(3 l3s + 1\\right) + GIPs\\right)}{W} + \\frac{2 COS^{2} SIN rx_{2} \\left(2 EI3s k3s \\left(6 l3s - 1\\right) - GIPs\\right)}{W} - \\frac{2 COS ry_{2} \\left(2 COS^{2} EI3s k3s \\left(6 l3s - 1\\right) + GIPs SIN^{2}\\right)}{W} + \\frac{2 EI3r k3r ry_{3} \\left(1 - 6 l3r\\right)}{W} + \\frac{6 EI3r k3r tz_{3}}{W^{2}} - My_{1} + \\frac{2 ry_{1} \\left(4 COS^{3} EI3s k3s \\left(3 l3s + 1\\right) + COS GIPs SIN^{2} + 2 EI3r k3r \\left(3 l3r + 1\\right)\\right)}{W} - \\frac{tz_{1} \\left(24 COS^{3} EI3s k3s + 6 EI3r k3r\\right)}{W^{2}}\\\\- \\frac{24 COS^{3} EI2s k2s ty_{2}}{W^{2}} - \\frac{24 COS^{2} EI2s SIN k2s tx_{1}}{W^{2}} + \\frac{24 COS^{2} EI2s SIN k2s tx_{2}}{W^{2}} + \\frac{4 COS EI2s k2s rz_{2} \\left(1 - 6 l2s\\right)}{W} + \\frac{2 EI2r k2r rz_{3} \\left(1 - 6 l2r\\right)}{W} - \\frac{6 EI2r k2r ty_{3}}{W^{2}} - Mz_{1} + \\frac{4 rz_{1} \\left(2 COS EI2s k2s \\left(3 l2s + 1\\right) + EI2r k2r \\left(3 l2r + 1\\right)\\right)}{W} + \\frac{6 ty_{1} \\left(4 COS^{3} EI2s k2s + EI2r k2r\\right)}{W^{2}}\\\\- \\frac{2 COS^{3} tx_{1} \\left(EFs W^{2} + 48 EI2s SIN^{2} k2s\\right)}{W^{3}} + \\frac{4 COS^{3} tx_{2} \\left(EFs W^{2} + 48 EI2s SIN^{2} k2s\\right)}{W^{3}} - \\frac{2 COS^{3} tx_{3} \\left(EFs W^{2} + 48 EI2s SIN^{2} k2s\\right)}{W^{3}} + \\frac{24 COS^{2} EI2s SIN k2s rz_{1}}{W^{2}} + \\frac{48 COS^{2} EI2s SIN k2s rz_{2}}{W^{2}} + \\frac{24 COS^{2} EI2s SIN k2s rz_{3}}{W^{2}} + \\frac{2 COS^{2} SIN ty_{1} \\left(48 COS^{2} EI2s k2s - EFs W^{2}\\right)}{W^{3}} + \\frac{2 COS^{2} SIN ty_{3} \\left(- 48 COS^{2} EI2s k2s + EFs W^{2}\\right)}{W^{3}} - Rx_{2}\\\\- \\frac{24 COS^{3} EI2s k2s rz_{1}}{W^{2}} + \\frac{24 COS^{3} EI2s k2s rz_{3}}{W^{2}} + \\frac{2 COS^{2} SIN tx_{1} \\left(48 COS^{2} EI2s k2s - EFs W^{2}\\right)}{W^{3}} + \\frac{2 COS^{2} SIN tx_{3} \\left(- 48 COS^{2} EI2s k2s + EFs W^{2}\\right)}{W^{3}} - Ry_{2} + ty_{1} \\left(- \\frac{96 COS^{5} EI2s k2s}{W^{3}} - \\frac{2 COS EFs SIN^{2}}{W}\\right) + ty_{2} \\left(\\frac{192 COS^{5} EI2s k2s}{W^{3}} + \\frac{4 COS EFs SIN^{2}}{W}\\right) + ty_{3} \\left(- \\frac{96 COS^{5} EI2s k2s}{W^{3}} - \\frac{2 COS EFs SIN^{2}}{W}\\right)\\\\\\frac{24 COS^{3} EI3s k3s ry_{1}}{W^{2}} - \\frac{24 COS^{3} EI3s k3s ry_{3}}{W^{2}} - \\frac{96 COS^{3} EI3s k3s tz_{1}}{W^{3}} + \\frac{192 COS^{3} EI3s k3s tz_{2}}{W^{3}} - \\frac{96 COS^{3} EI3s k3s tz_{3}}{W^{3}} - \\frac{24 COS^{2} EI3s SIN k3s rx_{1}}{W^{2}} - \\frac{48 COS^{2} EI3s SIN k3s rx_{2}}{W^{2}} - \\frac{24 COS^{2} EI3s SIN k3s rx_{3}}{W^{2}} - Rz_{2}\\\\\\frac{24 COS^{2} EI3s SIN k3s tz_{1}}{W^{2}} - \\frac{48 COS^{2} EI3s SIN k3s tz_{2}}{W^{2}} + \\frac{24 COS^{2} EI3s SIN k3s tz_{3}}{W^{2}} + \\frac{2 COS^{2} SIN ry_{1} \\left(2 EI3s k3s \\left(6 l3s - 1\\right) - GIPs\\right)}{W} + \\frac{2 COS^{2} SIN ry_{3} \\left(- 2 EI3s k3s \\left(6 l3s - 1\\right) + GIPs\\right)}{W} - \\frac{2 COS rx_{1} \\left(COS^{2} GIPs + 2 EI3s SIN^{2} k3s \\left(6 l3s - 1\\right)\\right)}{W} + \\frac{4 COS rx_{2} \\left(COS^{2} GIPs + 4 EI3s SIN^{2} k3s \\left(3 l3s + 1\\right)\\right)}{W} - \\frac{2 COS rx_{3} \\left(COS^{2} GIPs + 2 EI3s SIN^{2} k3s \\left(6 l3s - 1\\right)\\right)}{W} - Mx_{2}\\\\- \\frac{24 COS^{3} EI3s k3s tz_{1}}{W^{2}} + \\frac{24 COS^{3} EI3s k3s tz_{3}}{W^{2}} + \\frac{2 COS^{2} SIN rx_{1} \\left(2 EI3s k3s \\left(6 l3s - 1\\right) - GIPs\\right)}{W} + \\frac{2 COS^{2} SIN rx_{3} \\left(- 2 EI3s k3s \\left(6 l3s - 1\\right) + GIPs\\right)}{W} - \\frac{2 COS ry_{1} \\left(2 COS^{2} EI3s k3s \\left(6 l3s - 1\\right) + GIPs SIN^{2}\\right)}{W} + \\frac{4 COS ry_{2} \\left(4 COS^{2} EI3s k3s \\left(3 l3s + 1\\right) + GIPs SIN^{2}\\right)}{W} - \\frac{2 COS ry_{3} \\left(2 COS^{2} EI3s k3s \\left(6 l3s - 1\\right) + GIPs SIN^{2}\\right)}{W} - My_{2}\\\\\\frac{24 COS^{3} EI2s k2s ty_{1}}{W^{2}} - \\frac{24 COS^{3} EI2s k2s ty_{3}}{W^{2}} - \\frac{24 COS^{2} EI2s SIN k2s tx_{1}}{W^{2}} + \\frac{48 COS^{2} EI2s SIN k2s tx_{2}}{W^{2}} - \\frac{24 COS^{2} EI2s SIN k2s tx_{3}}{W^{2}} + \\frac{4 COS EI2s k2s rz_{1} \\left(1 - 6 l2s\\right)}{W} + \\frac{16 COS EI2s k2s rz_{2} \\left(3 l2s + 1\\right)}{W} + \\frac{4 COS EI2s k2s rz_{3} \\left(1 - 6 l2s\\right)}{W} - Mz_{2}\\\\- \\frac{2 COS^{3} tx_{2} \\left(EFs W^{2} + 48 EI2s SIN^{2} k2s\\right)}{W^{3}} - \\frac{24 COS^{2} EI2s SIN k2s rz_{2}}{W^{2}} - \\frac{24 COS^{2} EI2s SIN k2s rz_{3}}{W^{2}} + \\frac{2 COS^{2} SIN ty_{2} \\left(- 48 COS^{2} EI2s k2s + EFs W^{2}\\right)}{W^{3}} + \\frac{2 COS^{2} SIN ty_{3} \\left(48 COS^{2} EI2s k2s - EFs W^{2}\\right)}{W^{3}} - \\frac{EFr tx_{1}}{W} - Rx_{3} + \\frac{tx_{3} \\left(96 COS^{3} EI2s SIN^{2} k2s + W^{2} \\left(2 COS^{3} EFs + EFr\\right)\\right)}{W^{3}}\\\\- \\frac{24 COS^{3} EI2s k2s rz_{2}}{W^{2}} + \\frac{2 COS^{2} SIN tx_{2} \\left(- 48 COS^{2} EI2s k2s + EFs W^{2}\\right)}{W^{3}} + \\frac{2 COS^{2} SIN tx_{3} \\left(48 COS^{2} EI2s k2s - EFs W^{2}\\right)}{W^{3}} - \\frac{6 EI2r k2r rz_{1}}{W^{2}} - \\frac{12 EI2r k2r ty_{1}}{W^{3}} - Ry_{3} + ty_{2} \\left(- \\frac{96 COS^{5} EI2s k2s}{W^{3}} - \\frac{2 COS EFs SIN^{2}}{W}\\right) - \\frac{rz_{3} \\left(24 COS^{3} EI2s k2s + 6 EI2r k2r\\right)}{W^{2}} + \\frac{2 ty_{3} \\left(48 COS^{5} EI2s k2s + COS EFs SIN^{2} W^{2} + 6 EI2r k2r\\right)}{W^{3}}\\\\\\frac{24 COS^{3} EI3s k3s ry_{2}}{W^{2}} - \\frac{96 COS^{3} EI3s k3s tz_{2}}{W^{3}} + \\frac{24 COS^{2} EI3s SIN k3s rx_{2}}{W^{2}} + \\frac{24 COS^{2} EI3s SIN k3s rx_{3}}{W^{2}} + \\frac{6 EI3r k3r ry_{1}}{W^{2}} - \\frac{12 EI3r k3r tz_{1}}{W^{3}} - Rz_{3} + \\frac{6 ry_{3} \\left(4 COS^{3} EI3s k3s + EI3r k3r\\right)}{W^{2}} + \\frac{12 tz_{3} \\left(8 COS^{3} EI3s k3s + EI3r k3r\\right)}{W^{3}}\\\\- \\frac{24 COS^{2} EI3s SIN k3s tz_{2}}{W^{2}} + \\frac{24 COS^{2} EI3s SIN k3s tz_{3}}{W^{2}} + \\frac{2 COS^{2} SIN ry_{2} \\left(- 2 EI3s k3s \\left(6 l3s - 1\\right) + GIPs\\right)}{W} + \\frac{2 COS^{2} SIN ry_{3} \\left(4 EI3s k3s \\left(3 l3s + 1\\right) - GIPs\\right)}{W} - \\frac{2 COS rx_{2} \\left(COS^{2} GIPs + 2 EI3s SIN^{2} k3s \\left(6 l3s - 1\\right)\\right)}{W} - \\frac{GIPr rx_{1}}{W} - Mx_{3} + \\frac{rx_{3} \\left(2 COS^{3} GIPs + 8 COS EI3s SIN^{2} k3s \\left(3 l3s + 1\\right) + GIPr\\right)}{W}\\\\- \\frac{24 COS^{3} EI3s k3s tz_{2}}{W^{2}} + \\frac{2 COS^{2} SIN rx_{2} \\left(- 2 EI3s k3s \\left(6 l3s - 1\\right) + GIPs\\right)}{W} + \\frac{2 COS^{2} SIN rx_{3} \\left(4 EI3s k3s \\left(3 l3s + 1\\right) - GIPs\\right)}{W} - \\frac{2 COS ry_{2} \\left(2 COS^{2} EI3s k3s \\left(6 l3s - 1\\right) + GIPs SIN^{2}\\right)}{W} + \\frac{2 EI3r k3r ry_{1} \\left(1 - 6 l3r\\right)}{W} - \\frac{6 EI3r k3r tz_{1}}{W^{2}} - My_{3} + \\frac{2 ry_{3} \\left(4 COS^{3} EI3s k3s \\left(3 l3s + 1\\right) + COS GIPs SIN^{2} + 2 EI3r k3r \\left(3 l3r + 1\\right)\\right)}{W} + \\frac{6 tz_{3} \\left(4 COS^{3} EI3s k3s + EI3r k3r\\right)}{W^{2}}\\\\\\frac{24 COS^{3} EI2s k2s ty_{2}}{W^{2}} + \\frac{24 COS^{2} EI2s SIN k2s tx_{2}}{W^{2}} - \\frac{24 COS^{2} EI2s SIN k2s tx_{3}}{W^{2}} + \\frac{4 COS EI2s k2s rz_{2} \\left(1 - 6 l2s\\right)}{W} + \\frac{2 EI2r k2r rz_{1} \\left(1 - 6 l2r\\right)}{W} + \\frac{6 EI2r k2r ty_{1}}{W^{2}} - Mz_{3} + \\frac{4 rz_{3} \\left(2 COS EI2s k2s \\left(3 l2s + 1\\right) + EI2r k2r \\left(3 l2r + 1\\right)\\right)}{W} - \\frac{ty_{3} \\left(24 COS^{3} EI2s k2s + 6 EI2r k2r\\right)}{W^{2}}\\end{matrix}\\right]$"
      ]
     },
     "metadata": {},
     "execution_count": 65
    }
   ],
   "metadata": {}
  },
  {
   "cell_type": "markdown",
   "source": [
    "## Mx = Dxx * kx1 + Dxy * ky1\r\n",
    "##  0 = Dyx * kx1 + Dyy * ky1"
   ],
   "metadata": {}
  },
  {
   "cell_type": "code",
   "execution_count": 66,
   "source": [
    "# Reaction in joints and loads. (Yes, it's Mx).\r\n",
    "F = Matrix( [Rx1, Ry1, Rz1,   0, -Mx,   0,   0,   0,   0,   0,   0,   0,   0, Ry3, Rz3,   0,  Mx,   0] )\r\n",
    "# Translation restrictions on joints.\r\n",
    "U = Matrix( [  0,   0,   0, rx1, ry1, rz1, tx2, ty2, tz2, rx2, ry2, rz2, tx3,   0,   0, rx3, ry3, rz3] )\r\n",
    "# Full system is too hard to solve. Take symmetry into account.\r\n",
    "Sys = ( Matrix([Kglobal * U - F]) ).subs(Rx1, 0).subs(Ry3, -Ry1).subs(Rz3, -Rz1).subs(tx2, tx3/2).subs(ry2, 0).subs(rx3,rx1).subs(rz2,0).subs(rz3,-rz1).subs(Ry1,0).subs(Rz1,0).subs(rz1,0).subs(ty2,0).subs(tx3,0).subs(tz2,0)\r\n",
    "# System to solve.\r\n",
    "Sys"
   ],
   "outputs": [
    {
     "output_type": "execute_result",
     "data": {
      "text/plain": [
       "Matrix([\n",
       "[                                                                                                                                                                                                                                0],\n",
       "[                                                                                                                                                                                                                                0],\n",
       "[                                                                                             24*COS**2*EI3s*SIN*k3s*rx1/W**2 + 24*COS**2*EI3s*SIN*k3s*rx2/W**2 - 6*EI3r*k3r*ry3/W**2 - ry1*(24*COS**3*EI3s*k3s + 6*EI3r*k3r)/W**2],\n",
       "[                                  2*COS**2*SIN*ry1*(-4*EI3s*k3s*(3*l3s + 1) + GIPs)/W - 2*COS*rx2*(COS**2*GIPs + 2*EI3s*SIN**2*k3s*(6*l3s - 1))/W - GIPr*rx1/W + rx1*(2*COS**3*GIPs + 8*COS*EI3s*SIN**2*k3s*(3*l3s + 1) + GIPr)/W],\n",
       "[2*COS**2*SIN*rx1*(-4*EI3s*k3s*(3*l3s + 1) + GIPs)/W + 2*COS**2*SIN*rx2*(2*EI3s*k3s*(6*l3s - 1) - GIPs)/W + 2*EI3r*k3r*ry3*(1 - 6*l3r)/W + Mx + 2*ry1*(4*COS**3*EI3s*k3s*(3*l3s + 1) + COS*GIPs*SIN**2 + 2*EI3r*k3r*(3*l3r + 1))/W],\n",
       "[                                                                                                                                                                                                                                0],\n",
       "[                                                                                                                                                                                                                                0],\n",
       "[                                                                                                                                                                                                                                0],\n",
       "[                                                                                                    24*COS**3*EI3s*k3s*ry1/W**2 - 24*COS**3*EI3s*k3s*ry3/W**2 - 48*COS**2*EI3s*SIN*k3s*rx1/W**2 - 48*COS**2*EI3s*SIN*k3s*rx2/W**2],\n",
       "[ 2*COS**2*SIN*ry1*(2*EI3s*k3s*(6*l3s - 1) - GIPs)/W + 2*COS**2*SIN*ry3*(-2*EI3s*k3s*(6*l3s - 1) + GIPs)/W - 4*COS*rx1*(COS**2*GIPs + 2*EI3s*SIN**2*k3s*(6*l3s - 1))/W + 4*COS*rx2*(COS**2*GIPs + 4*EI3s*SIN**2*k3s*(3*l3s + 1))/W],\n",
       "[ 2*COS**2*SIN*rx1*(-2*EI3s*k3s*(6*l3s - 1) + GIPs)/W + 2*COS**2*SIN*rx1*(2*EI3s*k3s*(6*l3s - 1) - GIPs)/W - 2*COS*ry1*(2*COS**2*EI3s*k3s*(6*l3s - 1) + GIPs*SIN**2)/W - 2*COS*ry3*(2*COS**2*EI3s*k3s*(6*l3s - 1) + GIPs*SIN**2)/W],\n",
       "[                                                                                                                                                                                                                                0],\n",
       "[                                                                                                                                                                                                                                0],\n",
       "[                                                                                                                                                                                                                                0],\n",
       "[                                                                                              24*COS**2*EI3s*SIN*k3s*rx1/W**2 + 24*COS**2*EI3s*SIN*k3s*rx2/W**2 + 6*EI3r*k3r*ry1/W**2 + 6*ry3*(4*COS**3*EI3s*k3s + EI3r*k3r)/W**2],\n",
       "[                                   2*COS**2*SIN*ry3*(4*EI3s*k3s*(3*l3s + 1) - GIPs)/W - 2*COS*rx2*(COS**2*GIPs + 2*EI3s*SIN**2*k3s*(6*l3s - 1))/W - GIPr*rx1/W + rx1*(2*COS**3*GIPs + 8*COS*EI3s*SIN**2*k3s*(3*l3s + 1) + GIPr)/W],\n",
       "[2*COS**2*SIN*rx1*(4*EI3s*k3s*(3*l3s + 1) - GIPs)/W + 2*COS**2*SIN*rx2*(-2*EI3s*k3s*(6*l3s - 1) + GIPs)/W + 2*EI3r*k3r*ry1*(1 - 6*l3r)/W - Mx + 2*ry3*(4*COS**3*EI3s*k3s*(3*l3s + 1) + COS*GIPs*SIN**2 + 2*EI3r*k3r*(3*l3r + 1))/W],\n",
       "[                                                                                                                                                                                                                                0]])"
      ],
      "text/latex": [
       "$\\displaystyle \\left[\\begin{matrix}0\\\\0\\\\\\frac{24 COS^{2} EI3s SIN k3s rx_{1}}{W^{2}} + \\frac{24 COS^{2} EI3s SIN k3s rx_{2}}{W^{2}} - \\frac{6 EI3r k3r ry_{3}}{W^{2}} - \\frac{ry_{1} \\left(24 COS^{3} EI3s k3s + 6 EI3r k3r\\right)}{W^{2}}\\\\\\frac{2 COS^{2} SIN ry_{1} \\left(- 4 EI3s k3s \\left(3 l3s + 1\\right) + GIPs\\right)}{W} - \\frac{2 COS rx_{2} \\left(COS^{2} GIPs + 2 EI3s SIN^{2} k3s \\left(6 l3s - 1\\right)\\right)}{W} - \\frac{GIPr rx_{1}}{W} + \\frac{rx_{1} \\left(2 COS^{3} GIPs + 8 COS EI3s SIN^{2} k3s \\left(3 l3s + 1\\right) + GIPr\\right)}{W}\\\\\\frac{2 COS^{2} SIN rx_{1} \\left(- 4 EI3s k3s \\left(3 l3s + 1\\right) + GIPs\\right)}{W} + \\frac{2 COS^{2} SIN rx_{2} \\left(2 EI3s k3s \\left(6 l3s - 1\\right) - GIPs\\right)}{W} + \\frac{2 EI3r k3r ry_{3} \\left(1 - 6 l3r\\right)}{W} + Mx + \\frac{2 ry_{1} \\left(4 COS^{3} EI3s k3s \\left(3 l3s + 1\\right) + COS GIPs SIN^{2} + 2 EI3r k3r \\left(3 l3r + 1\\right)\\right)}{W}\\\\0\\\\0\\\\0\\\\\\frac{24 COS^{3} EI3s k3s ry_{1}}{W^{2}} - \\frac{24 COS^{3} EI3s k3s ry_{3}}{W^{2}} - \\frac{48 COS^{2} EI3s SIN k3s rx_{1}}{W^{2}} - \\frac{48 COS^{2} EI3s SIN k3s rx_{2}}{W^{2}}\\\\\\frac{2 COS^{2} SIN ry_{1} \\left(2 EI3s k3s \\left(6 l3s - 1\\right) - GIPs\\right)}{W} + \\frac{2 COS^{2} SIN ry_{3} \\left(- 2 EI3s k3s \\left(6 l3s - 1\\right) + GIPs\\right)}{W} - \\frac{4 COS rx_{1} \\left(COS^{2} GIPs + 2 EI3s SIN^{2} k3s \\left(6 l3s - 1\\right)\\right)}{W} + \\frac{4 COS rx_{2} \\left(COS^{2} GIPs + 4 EI3s SIN^{2} k3s \\left(3 l3s + 1\\right)\\right)}{W}\\\\\\frac{2 COS^{2} SIN rx_{1} \\left(- 2 EI3s k3s \\left(6 l3s - 1\\right) + GIPs\\right)}{W} + \\frac{2 COS^{2} SIN rx_{1} \\left(2 EI3s k3s \\left(6 l3s - 1\\right) - GIPs\\right)}{W} - \\frac{2 COS ry_{1} \\left(2 COS^{2} EI3s k3s \\left(6 l3s - 1\\right) + GIPs SIN^{2}\\right)}{W} - \\frac{2 COS ry_{3} \\left(2 COS^{2} EI3s k3s \\left(6 l3s - 1\\right) + GIPs SIN^{2}\\right)}{W}\\\\0\\\\0\\\\0\\\\\\frac{24 COS^{2} EI3s SIN k3s rx_{1}}{W^{2}} + \\frac{24 COS^{2} EI3s SIN k3s rx_{2}}{W^{2}} + \\frac{6 EI3r k3r ry_{1}}{W^{2}} + \\frac{6 ry_{3} \\left(4 COS^{3} EI3s k3s + EI3r k3r\\right)}{W^{2}}\\\\\\frac{2 COS^{2} SIN ry_{3} \\left(4 EI3s k3s \\left(3 l3s + 1\\right) - GIPs\\right)}{W} - \\frac{2 COS rx_{2} \\left(COS^{2} GIPs + 2 EI3s SIN^{2} k3s \\left(6 l3s - 1\\right)\\right)}{W} - \\frac{GIPr rx_{1}}{W} + \\frac{rx_{1} \\left(2 COS^{3} GIPs + 8 COS EI3s SIN^{2} k3s \\left(3 l3s + 1\\right) + GIPr\\right)}{W}\\\\\\frac{2 COS^{2} SIN rx_{1} \\left(4 EI3s k3s \\left(3 l3s + 1\\right) - GIPs\\right)}{W} + \\frac{2 COS^{2} SIN rx_{2} \\left(- 2 EI3s k3s \\left(6 l3s - 1\\right) + GIPs\\right)}{W} + \\frac{2 EI3r k3r ry_{1} \\left(1 - 6 l3r\\right)}{W} - Mx + \\frac{2 ry_{3} \\left(4 COS^{3} EI3s k3s \\left(3 l3s + 1\\right) + COS GIPs SIN^{2} + 2 EI3r k3r \\left(3 l3r + 1\\right)\\right)}{W}\\\\0\\end{matrix}\\right]$"
      ]
     },
     "metadata": {},
     "execution_count": 66
    }
   ],
   "metadata": {}
  },
  {
   "cell_type": "code",
   "execution_count": 67,
   "source": [
    "var = [rx1, ry1, rx2, ry3]\r\n",
    "Result_1 = linsolve([Sys[8], Sys[9], Sys[10],  Sys[14], Sys[15], Sys[16]], var).args[0]\r\n",
    "Result_1"
   ],
   "outputs": [
    {
     "output_type": "execute_result",
     "data": {
      "text/plain": [
       "((-COS**3*GIPs*Mx*W - 24*COS*EI3s*Mx*SIN**2*W*k3s*l3s - 2*COS*EI3s*Mx*SIN**2*W*k3s + COS*GIPs*Mx*SIN**2*W)/(48*COS**5*EI3s*GIPs*SIN*k3s*l3s + 4*COS**5*EI3s*GIPs*SIN*k3s + 96*COS**3*EI3s*GIPs*SIN**3*k3s*l3s + 8*COS**3*EI3s*GIPs*SIN**3*k3s + 48*COS**2*EI3r*GIPs*SIN*k3r*l3r + 4*COS**2*EI3r*GIPs*SIN*k3r + 48*COS*EI3s*GIPs*SIN**5*k3s*l3s + 4*COS*EI3s*GIPs*SIN**5*k3s + 576*EI3r*EI3s*SIN**3*k3r*k3s*l3r*l3s + 48*EI3r*EI3s*SIN**3*k3r*k3s*l3r + 48*EI3r*EI3s*SIN**3*k3r*k3s*l3s + 4*EI3r*EI3s*SIN**3*k3r*k3s), (-COS**2*GIPs*Mx*W - 12*EI3s*Mx*SIN**2*W*k3s*l3s - EI3s*Mx*SIN**2*W*k3s)/(24*COS**5*EI3s*GIPs*k3s*l3s + 2*COS**5*EI3s*GIPs*k3s + 48*COS**3*EI3s*GIPs*SIN**2*k3s*l3s + 4*COS**3*EI3s*GIPs*SIN**2*k3s + 24*COS**2*EI3r*GIPs*k3r*l3r + 2*COS**2*EI3r*GIPs*k3r + 24*COS*EI3s*GIPs*SIN**4*k3s*l3s + 2*COS*EI3s*GIPs*SIN**4*k3s + 288*EI3r*EI3s*SIN**2*k3r*k3s*l3r*l3s + 24*EI3r*EI3s*SIN**2*k3r*k3s*l3r + 24*EI3r*EI3s*SIN**2*k3r*k3s*l3s + 2*EI3r*EI3s*SIN**2*k3r*k3s), (-COS**3*GIPs*Mx*W - COS*GIPs*Mx*SIN**2*W)/(48*COS**5*EI3s*GIPs*SIN*k3s*l3s + 4*COS**5*EI3s*GIPs*SIN*k3s + 96*COS**3*EI3s*GIPs*SIN**3*k3s*l3s + 8*COS**3*EI3s*GIPs*SIN**3*k3s + 48*COS**2*EI3r*GIPs*SIN*k3r*l3r + 4*COS**2*EI3r*GIPs*SIN*k3r + 48*COS*EI3s*GIPs*SIN**5*k3s*l3s + 4*COS*EI3s*GIPs*SIN**5*k3s + 576*EI3r*EI3s*SIN**3*k3r*k3s*l3r*l3s + 48*EI3r*EI3s*SIN**3*k3r*k3s*l3r + 48*EI3r*EI3s*SIN**3*k3r*k3s*l3s + 4*EI3r*EI3s*SIN**3*k3r*k3s), (COS**2*GIPs*Mx*W + 12*EI3s*Mx*SIN**2*W*k3s*l3s + EI3s*Mx*SIN**2*W*k3s)/(24*COS**5*EI3s*GIPs*k3s*l3s + 2*COS**5*EI3s*GIPs*k3s + 48*COS**3*EI3s*GIPs*SIN**2*k3s*l3s + 4*COS**3*EI3s*GIPs*SIN**2*k3s + 24*COS**2*EI3r*GIPs*k3r*l3r + 2*COS**2*EI3r*GIPs*k3r + 24*COS*EI3s*GIPs*SIN**4*k3s*l3s + 2*COS*EI3s*GIPs*SIN**4*k3s + 288*EI3r*EI3s*SIN**2*k3r*k3s*l3r*l3s + 24*EI3r*EI3s*SIN**2*k3r*k3s*l3r + 24*EI3r*EI3s*SIN**2*k3r*k3s*l3s + 2*EI3r*EI3s*SIN**2*k3r*k3s))"
      ],
      "text/latex": [
       "$\\displaystyle \\left( \\frac{- COS^{3} GIPs Mx W - 24 COS EI3s Mx SIN^{2} W k3s l3s - 2 COS EI3s Mx SIN^{2} W k3s + COS GIPs Mx SIN^{2} W}{48 COS^{5} EI3s GIPs SIN k3s l3s + 4 COS^{5} EI3s GIPs SIN k3s + 96 COS^{3} EI3s GIPs SIN^{3} k3s l3s + 8 COS^{3} EI3s GIPs SIN^{3} k3s + 48 COS^{2} EI3r GIPs SIN k3r l3r + 4 COS^{2} EI3r GIPs SIN k3r + 48 COS EI3s GIPs SIN^{5} k3s l3s + 4 COS EI3s GIPs SIN^{5} k3s + 576 EI3r EI3s SIN^{3} k3r k3s l3r l3s + 48 EI3r EI3s SIN^{3} k3r k3s l3r + 48 EI3r EI3s SIN^{3} k3r k3s l3s + 4 EI3r EI3s SIN^{3} k3r k3s}, \\  \\frac{- COS^{2} GIPs Mx W - 12 EI3s Mx SIN^{2} W k3s l3s - EI3s Mx SIN^{2} W k3s}{24 COS^{5} EI3s GIPs k3s l3s + 2 COS^{5} EI3s GIPs k3s + 48 COS^{3} EI3s GIPs SIN^{2} k3s l3s + 4 COS^{3} EI3s GIPs SIN^{2} k3s + 24 COS^{2} EI3r GIPs k3r l3r + 2 COS^{2} EI3r GIPs k3r + 24 COS EI3s GIPs SIN^{4} k3s l3s + 2 COS EI3s GIPs SIN^{4} k3s + 288 EI3r EI3s SIN^{2} k3r k3s l3r l3s + 24 EI3r EI3s SIN^{2} k3r k3s l3r + 24 EI3r EI3s SIN^{2} k3r k3s l3s + 2 EI3r EI3s SIN^{2} k3r k3s}, \\  \\frac{- COS^{3} GIPs Mx W - COS GIPs Mx SIN^{2} W}{48 COS^{5} EI3s GIPs SIN k3s l3s + 4 COS^{5} EI3s GIPs SIN k3s + 96 COS^{3} EI3s GIPs SIN^{3} k3s l3s + 8 COS^{3} EI3s GIPs SIN^{3} k3s + 48 COS^{2} EI3r GIPs SIN k3r l3r + 4 COS^{2} EI3r GIPs SIN k3r + 48 COS EI3s GIPs SIN^{5} k3s l3s + 4 COS EI3s GIPs SIN^{5} k3s + 576 EI3r EI3s SIN^{3} k3r k3s l3r l3s + 48 EI3r EI3s SIN^{3} k3r k3s l3r + 48 EI3r EI3s SIN^{3} k3r k3s l3s + 4 EI3r EI3s SIN^{3} k3r k3s}, \\  \\frac{COS^{2} GIPs Mx W + 12 EI3s Mx SIN^{2} W k3s l3s + EI3s Mx SIN^{2} W k3s}{24 COS^{5} EI3s GIPs k3s l3s + 2 COS^{5} EI3s GIPs k3s + 48 COS^{3} EI3s GIPs SIN^{2} k3s l3s + 4 COS^{3} EI3s GIPs SIN^{2} k3s + 24 COS^{2} EI3r GIPs k3r l3r + 2 COS^{2} EI3r GIPs k3r + 24 COS EI3s GIPs SIN^{4} k3s l3s + 2 COS EI3s GIPs SIN^{4} k3s + 288 EI3r EI3s SIN^{2} k3r k3s l3r l3s + 24 EI3r EI3s SIN^{2} k3r k3s l3r + 24 EI3r EI3s SIN^{2} k3r k3s l3s + 2 EI3r EI3s SIN^{2} k3r k3s}\\right)$"
      ]
     },
     "metadata": {},
     "execution_count": 67
    }
   ],
   "metadata": {}
  },
  {
   "cell_type": "code",
   "execution_count": 68,
   "source": [
    "kx1 = (Result_1[var.index(ry3)] - Result_1[var.index(ry1)]) / W\r\n",
    "simplify(kx1)"
   ],
   "outputs": [
    {
     "output_type": "execute_result",
     "data": {
      "text/plain": [
       "Mx*(COS**2*GIPs + 12*EI3s*SIN**2*k3s*l3s + EI3s*SIN**2*k3s)/(12*COS**5*EI3s*GIPs*k3s*l3s + COS**5*EI3s*GIPs*k3s + 24*COS**3*EI3s*GIPs*SIN**2*k3s*l3s + 2*COS**3*EI3s*GIPs*SIN**2*k3s + 12*COS**2*EI3r*GIPs*k3r*l3r + COS**2*EI3r*GIPs*k3r + 12*COS*EI3s*GIPs*SIN**4*k3s*l3s + COS*EI3s*GIPs*SIN**4*k3s + 144*EI3r*EI3s*SIN**2*k3r*k3s*l3r*l3s + 12*EI3r*EI3s*SIN**2*k3r*k3s*l3r + 12*EI3r*EI3s*SIN**2*k3r*k3s*l3s + EI3r*EI3s*SIN**2*k3r*k3s)"
      ],
      "text/latex": [
       "$\\displaystyle \\frac{Mx \\left(COS^{2} GIPs + 12 EI3s SIN^{2} k3s l3s + EI3s SIN^{2} k3s\\right)}{12 COS^{5} EI3s GIPs k3s l3s + COS^{5} EI3s GIPs k3s + 24 COS^{3} EI3s GIPs SIN^{2} k3s l3s + 2 COS^{3} EI3s GIPs SIN^{2} k3s + 12 COS^{2} EI3r GIPs k3r l3r + COS^{2} EI3r GIPs k3r + 12 COS EI3s GIPs SIN^{4} k3s l3s + COS EI3s GIPs SIN^{4} k3s + 144 EI3r EI3s SIN^{2} k3r k3s l3r l3s + 12 EI3r EI3s SIN^{2} k3r k3s l3r + 12 EI3r EI3s SIN^{2} k3r k3s l3s + EI3r EI3s SIN^{2} k3r k3s}$"
      ]
     },
     "metadata": {},
     "execution_count": 68
    }
   ],
   "metadata": {}
  },
  {
   "cell_type": "code",
   "execution_count": 69,
   "source": [
    "ky1 = -(Result_1[var.index(rx2)] - Result_1[var.index(rx1)]) / (W * TAN / 2)\r\n",
    "simplify(ky1)"
   ],
   "outputs": [
    {
     "output_type": "execute_result",
     "data": {
      "text/plain": [
       "COS*Mx*SIN*(-12*EI3s*k3s*l3s - EI3s*k3s + GIPs)/(TAN*(12*COS**5*EI3s*GIPs*k3s*l3s + COS**5*EI3s*GIPs*k3s + 24*COS**3*EI3s*GIPs*SIN**2*k3s*l3s + 2*COS**3*EI3s*GIPs*SIN**2*k3s + 12*COS**2*EI3r*GIPs*k3r*l3r + COS**2*EI3r*GIPs*k3r + 12*COS*EI3s*GIPs*SIN**4*k3s*l3s + COS*EI3s*GIPs*SIN**4*k3s + 144*EI3r*EI3s*SIN**2*k3r*k3s*l3r*l3s + 12*EI3r*EI3s*SIN**2*k3r*k3s*l3r + 12*EI3r*EI3s*SIN**2*k3r*k3s*l3s + EI3r*EI3s*SIN**2*k3r*k3s))"
      ],
      "text/latex": [
       "$\\displaystyle \\frac{COS Mx SIN \\left(- 12 EI3s k3s l3s - EI3s k3s + GIPs\\right)}{TAN \\left(12 COS^{5} EI3s GIPs k3s l3s + COS^{5} EI3s GIPs k3s + 24 COS^{3} EI3s GIPs SIN^{2} k3s l3s + 2 COS^{3} EI3s GIPs SIN^{2} k3s + 12 COS^{2} EI3r GIPs k3r l3r + COS^{2} EI3r GIPs k3r + 12 COS EI3s GIPs SIN^{4} k3s l3s + COS EI3s GIPs SIN^{4} k3s + 144 EI3r EI3s SIN^{2} k3r k3s l3r l3s + 12 EI3r EI3s SIN^{2} k3r k3s l3r + 12 EI3r EI3s SIN^{2} k3r k3s l3s + EI3r EI3s SIN^{2} k3r k3s\\right)}$"
      ]
     },
     "metadata": {},
     "execution_count": 69
    }
   ],
   "metadata": {}
  },
  {
   "cell_type": "markdown",
   "source": [
    "##  0 = Dxx * kx2 + Dxy * ky2\r\n",
    "## My = Dyx * kx2 + Dyy * ky2"
   ],
   "metadata": {}
  },
  {
   "cell_type": "code",
   "execution_count": 70,
   "source": [
    "F = Matrix( [Rx1, Ry1, Rz1,My/2,   0,   0,   0,   0, Rz2,  -My,   0,   0,   0, Ry3, Rz3,  My/2,   0,   0] )\r\n",
    "U = Matrix( [  0,   0,   0,  rx1, ry1, rz1, tx2, ty2,   0, rx2, ry2, rz2, tx3,   0,   0,    rx3, ry3, rz3] )\r\n",
    "Sys2 = simplify(( Matrix([Kglobal * U - F]) ).subs(rz2, 0).subs(Rx1, 0).subs(Ry1, 0).subs(Ry3, 0).subs(Rz1, -Rz2/2).subs(Rz3, -Rz2/2).subs(tx2, tx3/2).subs(rz1, -rz3).subs(rx3,rx1).subs(ry1, -ry3).subs(ry2, 0))\r\n",
    "var = [rx1, ty2, tz2, rx2, tx3, ry3, rz3, Rz2]\r\n",
    "Result_2 = linsolve((Sys2[0], Sys2[1], Sys2[2], Sys2[3], Sys2[4], Sys2[5], Sys2[7], Sys2[8], Sys2[9], Sys2[12], Sys2[13], Sys2[14], Sys2[15], Sys2[16], Sys2[17]), var).args[0]\r\n",
    "Result_2"
   ],
   "outputs": [
    {
     "output_type": "execute_result",
     "data": {
      "text/plain": [
       "((24*COS**3*EI3s*My*W*k3s*l3s + 2*COS**3*EI3s*My*W*k3s - COS**3*GIPs*My*W + COS*GIPs*My*SIN**2*W + 12*EI3r*My*W*k3r*l3r + EI3r*My*W*k3r)/(96*COS**6*EI3s*GIPs*k3s*l3s + 8*COS**6*EI3s*GIPs*k3s + 192*COS**4*EI3s*GIPs*SIN**2*k3s*l3s + 16*COS**4*EI3s*GIPs*SIN**2*k3s + 96*COS**3*EI3r*GIPs*k3r*l3r + 8*COS**3*EI3r*GIPs*k3r + 96*COS**2*EI3s*GIPs*SIN**4*k3s*l3s + 8*COS**2*EI3s*GIPs*SIN**4*k3s + 1152*COS*EI3r*EI3s*SIN**2*k3r*k3s*l3r*l3s + 96*COS*EI3r*EI3s*SIN**2*k3r*k3s*l3r + 96*COS*EI3r*EI3s*SIN**2*k3r*k3s*l3s + 8*COS*EI3r*EI3s*SIN**2*k3r*k3s), 0, tz2, (-COS**3*GIPs*My*W - COS*GIPs*My*SIN**2*W - 12*EI3r*My*W*k3r*l3r - EI3r*My*W*k3r)/(96*COS**6*EI3s*GIPs*k3s*l3s + 8*COS**6*EI3s*GIPs*k3s + 192*COS**4*EI3s*GIPs*SIN**2*k3s*l3s + 16*COS**4*EI3s*GIPs*SIN**2*k3s + 96*COS**3*EI3r*GIPs*k3r*l3r + 8*COS**3*EI3r*GIPs*k3r + 96*COS**2*EI3s*GIPs*SIN**4*k3s*l3s + 8*COS**2*EI3s*GIPs*SIN**4*k3s + 1152*COS*EI3r*EI3s*SIN**2*k3r*k3s*l3r*l3s + 96*COS*EI3r*EI3s*SIN**2*k3r*k3s*l3r + 96*COS*EI3r*EI3s*SIN**2*k3r*k3s*l3s + 8*COS*EI3r*EI3s*SIN**2*k3r*k3s), 0, (-12*COS*EI3s*My*SIN*W*k3s*l3s - COS*EI3s*My*SIN*W*k3s + COS*GIPs*My*SIN*W)/(48*COS**5*EI3s*GIPs*k3s*l3s + 4*COS**5*EI3s*GIPs*k3s + 96*COS**3*EI3s*GIPs*SIN**2*k3s*l3s + 8*COS**3*EI3s*GIPs*SIN**2*k3s + 48*COS**2*EI3r*GIPs*k3r*l3r + 4*COS**2*EI3r*GIPs*k3r + 48*COS*EI3s*GIPs*SIN**4*k3s*l3s + 4*COS*EI3s*GIPs*SIN**4*k3s + 576*EI3r*EI3s*SIN**2*k3r*k3s*l3r*l3s + 48*EI3r*EI3s*SIN**2*k3r*k3s*l3r + 48*EI3r*EI3s*SIN**2*k3r*k3s*l3s + 4*EI3r*EI3s*SIN**2*k3r*k3s), 0, 0)"
      ],
      "text/latex": [
       "$\\displaystyle \\left( \\frac{24 COS^{3} EI3s My W k3s l3s + 2 COS^{3} EI3s My W k3s - COS^{3} GIPs My W + COS GIPs My SIN^{2} W + 12 EI3r My W k3r l3r + EI3r My W k3r}{96 COS^{6} EI3s GIPs k3s l3s + 8 COS^{6} EI3s GIPs k3s + 192 COS^{4} EI3s GIPs SIN^{2} k3s l3s + 16 COS^{4} EI3s GIPs SIN^{2} k3s + 96 COS^{3} EI3r GIPs k3r l3r + 8 COS^{3} EI3r GIPs k3r + 96 COS^{2} EI3s GIPs SIN^{4} k3s l3s + 8 COS^{2} EI3s GIPs SIN^{4} k3s + 1152 COS EI3r EI3s SIN^{2} k3r k3s l3r l3s + 96 COS EI3r EI3s SIN^{2} k3r k3s l3r + 96 COS EI3r EI3s SIN^{2} k3r k3s l3s + 8 COS EI3r EI3s SIN^{2} k3r k3s}, \\  0, \\  tz_{2}, \\  \\frac{- COS^{3} GIPs My W - COS GIPs My SIN^{2} W - 12 EI3r My W k3r l3r - EI3r My W k3r}{96 COS^{6} EI3s GIPs k3s l3s + 8 COS^{6} EI3s GIPs k3s + 192 COS^{4} EI3s GIPs SIN^{2} k3s l3s + 16 COS^{4} EI3s GIPs SIN^{2} k3s + 96 COS^{3} EI3r GIPs k3r l3r + 8 COS^{3} EI3r GIPs k3r + 96 COS^{2} EI3s GIPs SIN^{4} k3s l3s + 8 COS^{2} EI3s GIPs SIN^{4} k3s + 1152 COS EI3r EI3s SIN^{2} k3r k3s l3r l3s + 96 COS EI3r EI3s SIN^{2} k3r k3s l3r + 96 COS EI3r EI3s SIN^{2} k3r k3s l3s + 8 COS EI3r EI3s SIN^{2} k3r k3s}, \\  0, \\  \\frac{- 12 COS EI3s My SIN W k3s l3s - COS EI3s My SIN W k3s + COS GIPs My SIN W}{48 COS^{5} EI3s GIPs k3s l3s + 4 COS^{5} EI3s GIPs k3s + 96 COS^{3} EI3s GIPs SIN^{2} k3s l3s + 8 COS^{3} EI3s GIPs SIN^{2} k3s + 48 COS^{2} EI3r GIPs k3r l3r + 4 COS^{2} EI3r GIPs k3r + 48 COS EI3s GIPs SIN^{4} k3s l3s + 4 COS EI3s GIPs SIN^{4} k3s + 576 EI3r EI3s SIN^{2} k3r k3s l3r l3s + 48 EI3r EI3s SIN^{2} k3r k3s l3r + 48 EI3r EI3s SIN^{2} k3r k3s l3s + 4 EI3r EI3s SIN^{2} k3r k3s}, \\  0, \\  0\\right)$"
      ]
     },
     "metadata": {},
     "execution_count": 70
    }
   ],
   "metadata": {}
  },
  {
   "cell_type": "code",
   "execution_count": 71,
   "source": [
    "kx2 = (Result_2[var.index(ry3)] + Result_2[var.index(ry3)]) / W\r\n",
    "simplify(kx2)"
   ],
   "outputs": [
    {
     "output_type": "execute_result",
     "data": {
      "text/plain": [
       "COS*My*SIN*(-12*EI3s*k3s*l3s - EI3s*k3s + GIPs)/(2*(12*COS**5*EI3s*GIPs*k3s*l3s + COS**5*EI3s*GIPs*k3s + 24*COS**3*EI3s*GIPs*SIN**2*k3s*l3s + 2*COS**3*EI3s*GIPs*SIN**2*k3s + 12*COS**2*EI3r*GIPs*k3r*l3r + COS**2*EI3r*GIPs*k3r + 12*COS*EI3s*GIPs*SIN**4*k3s*l3s + COS*EI3s*GIPs*SIN**4*k3s + 144*EI3r*EI3s*SIN**2*k3r*k3s*l3r*l3s + 12*EI3r*EI3s*SIN**2*k3r*k3s*l3r + 12*EI3r*EI3s*SIN**2*k3r*k3s*l3s + EI3r*EI3s*SIN**2*k3r*k3s))"
      ],
      "text/latex": [
       "$\\displaystyle \\frac{COS My SIN \\left(- 12 EI3s k3s l3s - EI3s k3s + GIPs\\right)}{2 \\left(12 COS^{5} EI3s GIPs k3s l3s + COS^{5} EI3s GIPs k3s + 24 COS^{3} EI3s GIPs SIN^{2} k3s l3s + 2 COS^{3} EI3s GIPs SIN^{2} k3s + 12 COS^{2} EI3r GIPs k3r l3r + COS^{2} EI3r GIPs k3r + 12 COS EI3s GIPs SIN^{4} k3s l3s + COS EI3s GIPs SIN^{4} k3s + 144 EI3r EI3s SIN^{2} k3r k3s l3r l3s + 12 EI3r EI3s SIN^{2} k3r k3s l3r + 12 EI3r EI3s SIN^{2} k3r k3s l3s + EI3r EI3s SIN^{2} k3r k3s\\right)}$"
      ]
     },
     "metadata": {},
     "execution_count": 71
    }
   ],
   "metadata": {}
  },
  {
   "cell_type": "code",
   "execution_count": 72,
   "source": [
    "ky2 = -(Result_2[var.index(rx2)] - Result_2[var.index(rx1)]) / (W * TAN / 2)\r\n",
    "ky2"
   ],
   "outputs": [
    {
     "output_type": "execute_result",
     "data": {
      "text/plain": [
       "2*(-(-COS**3*GIPs*My*W - COS*GIPs*My*SIN**2*W - 12*EI3r*My*W*k3r*l3r - EI3r*My*W*k3r)/(96*COS**6*EI3s*GIPs*k3s*l3s + 8*COS**6*EI3s*GIPs*k3s + 192*COS**4*EI3s*GIPs*SIN**2*k3s*l3s + 16*COS**4*EI3s*GIPs*SIN**2*k3s + 96*COS**3*EI3r*GIPs*k3r*l3r + 8*COS**3*EI3r*GIPs*k3r + 96*COS**2*EI3s*GIPs*SIN**4*k3s*l3s + 8*COS**2*EI3s*GIPs*SIN**4*k3s + 1152*COS*EI3r*EI3s*SIN**2*k3r*k3s*l3r*l3s + 96*COS*EI3r*EI3s*SIN**2*k3r*k3s*l3r + 96*COS*EI3r*EI3s*SIN**2*k3r*k3s*l3s + 8*COS*EI3r*EI3s*SIN**2*k3r*k3s) + (24*COS**3*EI3s*My*W*k3s*l3s + 2*COS**3*EI3s*My*W*k3s - COS**3*GIPs*My*W + COS*GIPs*My*SIN**2*W + 12*EI3r*My*W*k3r*l3r + EI3r*My*W*k3r)/(96*COS**6*EI3s*GIPs*k3s*l3s + 8*COS**6*EI3s*GIPs*k3s + 192*COS**4*EI3s*GIPs*SIN**2*k3s*l3s + 16*COS**4*EI3s*GIPs*SIN**2*k3s + 96*COS**3*EI3r*GIPs*k3r*l3r + 8*COS**3*EI3r*GIPs*k3r + 96*COS**2*EI3s*GIPs*SIN**4*k3s*l3s + 8*COS**2*EI3s*GIPs*SIN**4*k3s + 1152*COS*EI3r*EI3s*SIN**2*k3r*k3s*l3r*l3s + 96*COS*EI3r*EI3s*SIN**2*k3r*k3s*l3r + 96*COS*EI3r*EI3s*SIN**2*k3r*k3s*l3s + 8*COS*EI3r*EI3s*SIN**2*k3r*k3s))/(TAN*W)"
      ],
      "text/latex": [
       "$\\displaystyle \\frac{2 \\left(- \\frac{- COS^{3} GIPs My W - COS GIPs My SIN^{2} W - 12 EI3r My W k3r l3r - EI3r My W k3r}{96 COS^{6} EI3s GIPs k3s l3s + 8 COS^{6} EI3s GIPs k3s + 192 COS^{4} EI3s GIPs SIN^{2} k3s l3s + 16 COS^{4} EI3s GIPs SIN^{2} k3s + 96 COS^{3} EI3r GIPs k3r l3r + 8 COS^{3} EI3r GIPs k3r + 96 COS^{2} EI3s GIPs SIN^{4} k3s l3s + 8 COS^{2} EI3s GIPs SIN^{4} k3s + 1152 COS EI3r EI3s SIN^{2} k3r k3s l3r l3s + 96 COS EI3r EI3s SIN^{2} k3r k3s l3r + 96 COS EI3r EI3s SIN^{2} k3r k3s l3s + 8 COS EI3r EI3s SIN^{2} k3r k3s} + \\frac{24 COS^{3} EI3s My W k3s l3s + 2 COS^{3} EI3s My W k3s - COS^{3} GIPs My W + COS GIPs My SIN^{2} W + 12 EI3r My W k3r l3r + EI3r My W k3r}{96 COS^{6} EI3s GIPs k3s l3s + 8 COS^{6} EI3s GIPs k3s + 192 COS^{4} EI3s GIPs SIN^{2} k3s l3s + 16 COS^{4} EI3s GIPs SIN^{2} k3s + 96 COS^{3} EI3r GIPs k3r l3r + 8 COS^{3} EI3r GIPs k3r + 96 COS^{2} EI3s GIPs SIN^{4} k3s l3s + 8 COS^{2} EI3s GIPs SIN^{4} k3s + 1152 COS EI3r EI3s SIN^{2} k3r k3s l3r l3s + 96 COS EI3r EI3s SIN^{2} k3r k3s l3r + 96 COS EI3r EI3s SIN^{2} k3r k3s l3s + 8 COS EI3r EI3s SIN^{2} k3r k3s}\\right)}{TAN W}$"
      ]
     },
     "metadata": {},
     "execution_count": 72
    }
   ],
   "metadata": {}
  },
  {
   "cell_type": "markdown",
   "source": [
    "# Dxx Dxy Dyx Dyy"
   ],
   "metadata": {}
  },
  {
   "cell_type": "code",
   "execution_count": 80,
   "source": [
    "Dxx, Dxy, Dyx, Dyy = symbols('Dxx, Dxy, Dyx, Dyy')\r\n",
    "\r\n",
    "SysD = simplify((Dxx*kx1 + Dxy*ky1 - Mx / W / TAN, Dyx*kx1 + Dyy*ky1, Dxx*kx2 + Dxy*ky2, Dyx*kx2 + Dyy*ky2 - My / W / 2 ))"
   ],
   "outputs": [],
   "metadata": {}
  },
  {
   "cell_type": "code",
   "execution_count": 81,
   "source": [
    "resD = linsolve(SysD, Dxx, Dxy, Dyx, Dyy).args[0]\r\n",
    "resD"
   ],
   "outputs": [
    {
     "output_type": "execute_result",
     "data": {
      "text/plain": [
       "((12*COS**3*EI3s*k3s*l3s + COS**3*EI3s*k3s + COS*GIPs*SIN**2 + 12*EI3r*k3r*l3r + EI3r*k3r)/(TAN*W), (12*COS**2*EI3s*SIN*k3s*l3s + COS**2*EI3s*SIN*k3s - COS**2*GIPs*SIN)/W, (12*COS**2*EI3s*SIN*k3s*l3s + COS**2*EI3s*SIN*k3s - COS**2*GIPs*SIN)/W, (COS**3*GIPs*TAN + 12*COS*EI3s*SIN**2*TAN*k3s*l3s + COS*EI3s*SIN**2*TAN*k3s)/W)"
      ],
      "text/latex": [
       "$\\displaystyle \\left( \\frac{12 COS^{3} EI3s k3s l3s + COS^{3} EI3s k3s + COS GIPs SIN^{2} + 12 EI3r k3r l3r + EI3r k3r}{TAN W}, \\  \\frac{12 COS^{2} EI3s SIN k3s l3s + COS^{2} EI3s SIN k3s - COS^{2} GIPs SIN}{W}, \\  \\frac{12 COS^{2} EI3s SIN k3s l3s + COS^{2} EI3s SIN k3s - COS^{2} GIPs SIN}{W}, \\  \\frac{COS^{3} GIPs TAN + 12 COS EI3s SIN^{2} TAN k3s l3s + COS EI3s SIN^{2} TAN k3s}{W}\\right)$"
      ]
     },
     "metadata": {},
     "execution_count": 81
    }
   ],
   "metadata": {}
  },
  {
   "cell_type": "code",
   "execution_count": 82,
   "source": [
    "S, C, T, c, R, ns, G12, G13, G23 = symbols(\"S, C, T, c, R, ns, G12, G13, G23\")\r\n",
    "def enplace1( arg ):\r\n",
    "    res = simplify( arg.subs(k3r,1/(1 + 12*l3r)) )\r\n",
    "    res = simplify( res.subs(k3s,1/(1 + 12*l3s)) )\r\n",
    "    res = simplify( res.subs(k2r,1/(1 + 12*l2r)) )\r\n",
    "    res = simplify( res.subs(k2s,1/(1 + 12*l2s)) )\r\n",
    "    res = simplify( res.subs(l3s, EI3s/(c*G12*ds*h*(W/COS/2)**2)) ) \r\n",
    "    res = simplify( res.subs(l2s, EI2s/(c*G13*ds*h*(W/COS/2)**2)) )\r\n",
    "    res = simplify( res.subs(l3r, EI3r/(c*G12*dr*h*(W)**2)) )\r\n",
    "    res = simplify( res.subs(l2r, EI2r/(c*G13*dr*h*(W)**2)) )\r\n",
    "    res = simplify( res.subs(SIN, sin(fi)) )\r\n",
    "    res = simplify( res.subs(COS, cos(fi)) )\r\n",
    "    res = simplify( res.subs(TAN, tan(fi)) )\r\n",
    "    res = simplify( res.subs(EFs, E*ds*h) )\r\n",
    "    res = simplify( res.subs(EFr, E*dr*h) )\r\n",
    "    res = simplify( res.subs(EI3s, E*ds*h**3/12) )\r\n",
    "    res = simplify( res.subs(EI3r, E*dr*h**3/12) )\r\n",
    "    res = simplify( res.subs(EI2s, E*ds**3*h/12) )\r\n",
    "    res = simplify( res.subs(EI2r, E*dr**3*h/12) )\r\n",
    "    res = simplify( res.subs(W, 2*pi*R/ns/2) )\r\n",
    "    return res"
   ],
   "outputs": [],
   "metadata": {}
  },
  {
   "cell_type": "code",
   "execution_count": 83,
   "source": [
    "Dxx = simplify(enplace1(resD[0]))\r\n",
    "Dxx"
   ],
   "outputs": [
    {
     "output_type": "execute_result",
     "data": {
      "text/plain": [
       "ns*(E*dr*h**3 + E*ds*h**3*cos(fi)**3 + 12*GIPs*sin(fi)**2*cos(fi))/(12*pi*R*tan(fi))"
      ],
      "text/latex": [
       "$\\displaystyle \\frac{ns \\left(E dr h^{3} + E ds h^{3} \\cos^{3}{\\left(fi \\right)} + 12 GIPs \\sin^{2}{\\left(fi \\right)} \\cos{\\left(fi \\right)}\\right)}{12 \\pi R \\tan{\\left(fi \\right)}}$"
      ]
     },
     "metadata": {},
     "execution_count": 83
    }
   ],
   "metadata": {}
  },
  {
   "cell_type": "code",
   "execution_count": 84,
   "source": [
    "Dxy = simplify(enplace1(resD[1]))\r\n",
    "Dxy"
   ],
   "outputs": [
    {
     "output_type": "execute_result",
     "data": {
      "text/plain": [
       "ns*(E*ds*h**3 - 12*GIPs)*sin(fi)*cos(fi)**2/(12*pi*R)"
      ],
      "text/latex": [
       "$\\displaystyle \\frac{ns \\left(E ds h^{3} - 12 GIPs\\right) \\sin{\\left(fi \\right)} \\cos^{2}{\\left(fi \\right)}}{12 \\pi R}$"
      ]
     },
     "metadata": {},
     "execution_count": 84
    }
   ],
   "metadata": {}
  },
  {
   "cell_type": "code",
   "execution_count": 85,
   "source": [
    "Dyx = simplify(enplace1(resD[2]))\r\n",
    "Dyx"
   ],
   "outputs": [
    {
     "output_type": "execute_result",
     "data": {
      "text/plain": [
       "ns*(E*ds*h**3 - 12*GIPs)*sin(fi)*cos(fi)**2/(12*pi*R)"
      ],
      "text/latex": [
       "$\\displaystyle \\frac{ns \\left(E ds h^{3} - 12 GIPs\\right) \\sin{\\left(fi \\right)} \\cos^{2}{\\left(fi \\right)}}{12 \\pi R}$"
      ]
     },
     "metadata": {},
     "execution_count": 85
    }
   ],
   "metadata": {}
  },
  {
   "cell_type": "code",
   "execution_count": 86,
   "source": [
    "Dyy = simplify(enplace1(resD[3]))\r\n",
    "Dyy"
   ],
   "outputs": [
    {
     "output_type": "execute_result",
     "data": {
      "text/plain": [
       "ns*(E*ds*h**3*sin(fi)**3 - 12*GIPs*sin(fi)**3 + 12*GIPs*sin(fi))/(12*pi*R)"
      ],
      "text/latex": [
       "$\\displaystyle \\frac{ns \\left(E ds h^{3} \\sin^{3}{\\left(fi \\right)} - 12 GIPs \\sin^{3}{\\left(fi \\right)} + 12 GIPs \\sin{\\left(fi \\right)}\\right)}{12 \\pi R}$"
      ]
     },
     "metadata": {},
     "execution_count": 86
    }
   ],
   "metadata": {}
  },
  {
   "cell_type": "code",
   "execution_count": null,
   "source": [],
   "outputs": [],
   "metadata": {}
  }
 ],
 "metadata": {
  "language_info": {
   "codemirror_mode": {
    "name": "ipython",
    "version": 3
   },
   "file_extension": ".py",
   "mimetype": "text/x-python",
   "name": "python",
   "nbconvert_exporter": "python",
   "pygments_lexer": "ipython3",
   "version": "3.9.4"
  },
  "orig_nbformat": 2,
  "kernelspec": {
   "name": "python3",
   "display_name": "Python 3.9.4 64-bit"
  },
  "metadata": {
   "interpreter": {
    "hash": "b8a207f87520931ad00e1e2e7f87f1127489924a27343ced21bc003eca4e66d9"
   }
  },
  "interpreter": {
   "hash": "d28de94a54fd136319c524879a0cdb44ee1e45117f1ffab401f64e2960f4dcd1"
  }
 },
 "nbformat": 4,
 "nbformat_minor": 2
}